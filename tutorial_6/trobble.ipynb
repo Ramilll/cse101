{
 "cells": [
  {
   "cell_type": "code",
   "execution_count": null,
   "metadata": {},
   "outputs": [],
   "source": [
    "%load_ext autoreload\n",
    "%autoreload 2\n",
    "\n",
    "\n",
    "from trobble import Trobble"
   ]
  },
  {
   "cell_type": "code",
   "execution_count": null,
   "metadata": {},
   "outputs": [],
   "source": [
    "(['Ivan', 'm', 'party', 'party', 'party', 'party', 'party', 'party', 'party', 'party', 'party', 'party', 'party'], ['You have one Trobble named Ivan: male, health 10, hunger 0, age 0', 'You have one Trobble named Ivan: male, health 10, hunger 5, age 1', 'You have one Trobble named Ivan: male, health 10, hunger 11, age 2', 'You have one Trobble named Ivan: male, health 10, hunger 18, age 3', 'You have one Trobble named Ivan: male, health 9, hunger 26, age 4', 'You have one Trobble named Ivan: male, health 9, hunger 35, age 5', 'You have one Trobble named Ivan: male, health 8, hunger 45, age 6', 'You have one Trobble named Ivan: male, health 8, hunger 56, age 7', 'You have one Trobble named Ivan: male, health 7, hunger 68, age 8', 'You have one Trobble named Ivan: male, health 5, hunger 81, age 9', 'You have one Trobble named Ivan: male, health 3, hunger 95, age 10', 'Happy Birthday Ivan!', 'Unfortunately, your Trobble Ivan has died at the age of 11'], ())\n"
   ]
  },
  {
   "cell_type": "code",
   "execution_count": null,
   "metadata": {},
   "outputs": [],
   "source": [
    "trobble = Trobble('Ivan', 'm')\n",
    "\n",
    "counter = 0\n",
    "while trobble.is_alive():\n",
    "    print(counter)\n",
    "    counter += 1\n",
    "    if trobble.is_birthday():\n",
    "        trobble.congratulate_with_the_birtday()\n",
    "    trobble.party()\n",
    "    trobble.next_turn()\n",
    "    print('You have one Trobble named ' + str(trobble))"
   ]
  },
  {
   "cell_type": "code",
   "execution_count": 17,
   "metadata": {},
   "outputs": [],
   "source": [
    "class Entity:\n",
    "    \"\"\"A mysterious thing.\"\"\"\n",
    "    id = 1\n",
    "    def __init__(self):\n",
    "        Entity.id += 1\n",
    "\n",
    "e_1 = Entity()\n",
    "e_2 = Entity()"
   ]
  },
  {
   "cell_type": "code",
   "execution_count": 18,
   "metadata": {},
   "outputs": [
    {
     "data": {
      "text/plain": [
       "(3, 3)"
      ]
     },
     "execution_count": 18,
     "metadata": {},
     "output_type": "execute_result"
    }
   ],
   "source": [
    "(e_1.id, e_2.id)"
   ]
  }
 ],
 "metadata": {
  "kernelspec": {
   "display_name": "Python 3",
   "language": "python",
   "name": "python3"
  },
  "language_info": {
   "codemirror_mode": {
    "name": "ipython",
    "version": 3
   },
   "file_extension": ".py",
   "mimetype": "text/x-python",
   "name": "python",
   "nbconvert_exporter": "python",
   "pygments_lexer": "ipython3",
   "version": "3.9.6 (default, Sep 26 2022, 11:37:49) \n[Clang 14.0.0 (clang-1400.0.29.202)]"
  },
  "orig_nbformat": 4,
  "vscode": {
   "interpreter": {
    "hash": "31f2aee4e71d21fbe5cf8b01ff0e069b9275f58929596ceb00d14d90e3e16cd6"
   }
  }
 },
 "nbformat": 4,
 "nbformat_minor": 2
}
