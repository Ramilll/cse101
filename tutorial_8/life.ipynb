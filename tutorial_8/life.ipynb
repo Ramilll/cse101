{
    "cells": [
        {
            "cell_type": "code",
            "execution_count": null,
            "metadata": {},
            "outputs": [],
            "source": [
                "# autoreload python \n",
                "%load_ext autoreload\n",
                "%autoreload 2"
            ]
        },
        {
            "cell_type": "code",
            "execution_count": null,
            "metadata": {},
            "outputs": [],
            "source": [
                "from life import * "
            ]
        },
        {
            "cell_type": "code",
            "execution_count": null,
            "metadata": {},
            "outputs": [],
            "source": [
                "p = Point(1, 2)\n",
                "p.get_neighbors()"
            ]
        },
        {
            "cell_type": "code",
            "execution_count": null,
            "metadata": {},
            "outputs": [],
            "source": [
                "from copy import copy \n",
                "\n",
                "b = Board(5,5,{Point(1,2), Point(2,2), Point(3,2)})\n",
                "b.next_step()\n",
                "copy(b)"
            ]
        },
        {
            "cell_type": "code",
            "execution_count": null,
            "metadata": {},
            "outputs": [],
            "source": [
                "s  = \"Board({'x_size' : 20, 'y_size' : 20, 'alive_points' : {Point({'x' : 6, 'y' : 12}), Point({'x' : 5, 'y' : 7}), Point({'x' : 5, 'y' : 10}), Point({'x' : 13, 'y' : 5}), Point({'x' : 7, 'y' : 7}), Point({'x' : 6, 'y' : 5}), Point({'x' : 7, 'y' : 10}), Point({'x' : 6, 'y' : 8}), Point({'x' : 14, 'y' : 6}), Point({'x' : 12, 'y' : 6}), Point({'x' : 5, 'y' : 6}), Point({'x' : 5, 'y' : 9}), Point({'x' : 17, 'y' : 8}), Point({'x' : 5, 'y' : 12}), Point({'x' : 13, 'y' : 7}), Point({'x' : 16, 'y' : 9}), Point({'x' : 15, 'y' : 7}), Point({'x' : 16, 'y' : 6}), Point({'x' : 7, 'y' : 9}), Point({'x' : 6, 'y' : 7}), Point({'x' : 7, 'y' : 6}), Point({'x' : 7, 'y' : 12}), Point({'x' : 6, 'y' : 10}), Point({'x' : 12, 'y' : 5}), Point({'x' : 14, 'y' : 5}), Point({'x' : 14, 'y' : 8}), Point({'x' : 5, 'y' : 5}), Point({'x' : 17, 'y' : 7}), Point({'x' : 5, 'y' : 11}), Point({'x' : 5, 'y' : 8}), Point({'x' : 13, 'y' : 6}), Point({'x' : 15, 'y' : 9}), Point({'x' : 7, 'y' : 5}), Point({'x' : 7, 'y' : 11}), Point({'x' : 6, 'y' : 9}), Point({'x' : 7, 'y' : 8})}})\"\n",
                "\n",
                "def fix_test_str(s):\n",
                "    new_s = \"\"\n",
                "    mapping = {\":\": \"=\", \"{\": \"\", \"}\": \"\"}\n",
                "    for letter in s:\n",
                "        if letter in mapping:\n",
                "            new_s += mapping[letter]\n",
                "        elif letter in [\"\\'\"]:\n",
                "            pass\n",
                "        else:\n",
                "            new_s += letter\n",
                "    new_s = new_s.replace(\"alive_points\", \"points\")\n",
                "    return new_s\n",
                "\n",
                "s = fix_test_str(s)"
            ]
        },
        {
            "cell_type": "code",
            "execution_count": null,
            "metadata": {},
            "outputs": [],
            "source": [
                "s"
            ]
        },
        {
            "cell_type": "code",
            "execution_count": null,
            "metadata": {},
            "outputs": [],
            "source": [
                "b = Board(x_size = 20, y_size = 20, points = [Point(x = 6, y = 12), Point(x = 5, y = 7), Point(x = 5, y = 10), Point(x = 13, y = 5), Point(x = 7, y = 7), Point(x = 6, y = 5), Point(x = 7, y = 10), Point(x = 6, y = 8), Point(x = 14, y = 6), Point(x = 12, y = 6), Point(x = 5, y = 6), Point(x = 5, y = 9), Point(x = 17, y = 8), Point(x = 5, y = 12), Point(x = 13, y = 7), Point(x = 16, y = 9), Point(x = 15, y = 7), Point(x = 16, y = 6), Point(x = 7, y = 9), Point(x = 6, y = 7), Point(x = 7, y = 6), Point(x = 7, y = 12), Point(x = 6, y = 10), Point(x = 12, y = 5), Point(x = 14, y = 5), Point(x = 14, y = 8), Point(x = 5, y = 5), Point(x = 17, y = 7), Point(x = 5, y = 11), Point(x = 5, y = 8), Point(x = 13, y = 6), Point(x = 15, y = 9), Point(x = 7, y = 5), Point(x = 7, y = 11), Point(x = 6, y = 9), Point(x = 7, y = 8)])"
            ]
        },
        {
            "cell_type": "code",
            "execution_count": null,
            "metadata": {},
            "outputs": [],
            "source": [
                "is_periodic(b)"
            ]
        },
        {
            "cell_type": "code",
            "execution_count": null,
            "metadata": {},
            "outputs": [],
            "source": []
        }
    ],
    "metadata": {
        "kernelspec": {
            "display_name": "Python 3",
            "language": "python",
            "name": "python3"
        },
        "language_info": {
            "codemirror_mode": {
                "name": "ipython",
                "version": 3
            },
            "file_extension": ".py",
            "mimetype": "text/x-python",
            "name": "python",
            "nbconvert_exporter": "python",
            "pygments_lexer": "ipython3",
            "version": "3.11.0 (v3.11.0:deaf509e8f, Oct 24 2022, 14:43:23) [Clang 13.0.0 (clang-1300.0.29.30)]"
        },
        "orig_nbformat": 4,
        "vscode": {
            "interpreter": {
                "hash": "aee8b7b246df8f9039afb4144a1f6fd8d2ca17a180786b69acc140d282b71a49"
            }
        }
    },
    "nbformat": 4,
    "nbformat_minor": 2
}
