{
 "cells": [
  {
   "cell_type": "code",
   "execution_count": 124,
   "metadata": {},
   "outputs": [
    {
     "name": "stdout",
     "output_type": "stream",
     "text": [
      "The autoreload extension is already loaded. To reload it, use:\n",
      "  %reload_ext autoreload\n"
     ]
    }
   ],
   "source": [
    "# autoreload python \n",
    "%load_ext autoreload\n",
    "%autoreload 2"
   ]
  },
  {
   "cell_type": "code",
   "execution_count": 125,
   "metadata": {},
   "outputs": [],
   "source": [
    "from life import * "
   ]
  },
  {
   "cell_type": "code",
   "execution_count": 126,
   "metadata": {},
   "outputs": [
    {
     "data": {
      "text/plain": [
       "{Point(0, 1),\n",
       " Point(0, 2),\n",
       " Point(0, 3),\n",
       " Point(1, 1),\n",
       " Point(1, 3),\n",
       " Point(2, 1),\n",
       " Point(2, 2),\n",
       " Point(2, 3)}"
      ]
     },
     "execution_count": 126,
     "metadata": {},
     "output_type": "execute_result"
    }
   ],
   "source": [
    "p = Point(1, 2)\n",
    "p.get_neighbors()"
   ]
  },
  {
   "cell_type": "code",
   "execution_count": 127,
   "metadata": {},
   "outputs": [
    {
     "data": {
      "text/plain": [
       "Board(x_size=5, y_size=5, alive_points={Point(2, 3), Point(2, 1), Point(2, 2)})"
      ]
     },
     "execution_count": 127,
     "metadata": {},
     "output_type": "execute_result"
    }
   ],
   "source": [
    "from copy import copy \n",
    "\n",
    "b = Board(5,5,{Point(1,2), Point(2,2), Point(3,2)})\n",
    "b.next_step()\n",
    "copy(b)"
   ]
  },
  {
   "cell_type": "code",
   "execution_count": 128,
   "metadata": {},
   "outputs": [],
   "source": [
    "s  = \"Board({'x_size' : 20, 'y_size' : 20, 'alive_points' : {Point({'x' : 6, 'y' : 12}), Point({'x' : 5, 'y' : 7}), Point({'x' : 5, 'y' : 10}), Point({'x' : 13, 'y' : 5}), Point({'x' : 7, 'y' : 7}), Point({'x' : 6, 'y' : 5}), Point({'x' : 7, 'y' : 10}), Point({'x' : 6, 'y' : 8}), Point({'x' : 14, 'y' : 6}), Point({'x' : 12, 'y' : 6}), Point({'x' : 5, 'y' : 6}), Point({'x' : 5, 'y' : 9}), Point({'x' : 17, 'y' : 8}), Point({'x' : 5, 'y' : 12}), Point({'x' : 13, 'y' : 7}), Point({'x' : 16, 'y' : 9}), Point({'x' : 15, 'y' : 7}), Point({'x' : 16, 'y' : 6}), Point({'x' : 7, 'y' : 9}), Point({'x' : 6, 'y' : 7}), Point({'x' : 7, 'y' : 6}), Point({'x' : 7, 'y' : 12}), Point({'x' : 6, 'y' : 10}), Point({'x' : 12, 'y' : 5}), Point({'x' : 14, 'y' : 5}), Point({'x' : 14, 'y' : 8}), Point({'x' : 5, 'y' : 5}), Point({'x' : 17, 'y' : 7}), Point({'x' : 5, 'y' : 11}), Point({'x' : 5, 'y' : 8}), Point({'x' : 13, 'y' : 6}), Point({'x' : 15, 'y' : 9}), Point({'x' : 7, 'y' : 5}), Point({'x' : 7, 'y' : 11}), Point({'x' : 6, 'y' : 9}), Point({'x' : 7, 'y' : 8})}})\"\n",
    "\n",
    "def fix_test_str(s):\n",
    "    new_s = \"\"\n",
    "    mapping = {\":\": \"=\", \"{\": \"\", \"}\": \"\"}\n",
    "    for letter in s:\n",
    "        if letter in mapping:\n",
    "            new_s += mapping[letter]\n",
    "        elif letter in [\"\\'\"]:\n",
    "            pass\n",
    "        else:\n",
    "            new_s += letter\n",
    "    new_s = new_s.replace(\"alive_points\", \"points\")\n",
    "    return new_s\n",
    "\n",
    "s = fix_test_str(s)"
   ]
  },
  {
   "cell_type": "code",
   "execution_count": 129,
   "metadata": {},
   "outputs": [
    {
     "data": {
      "text/plain": [
       "'Board(x_size = 20, y_size = 20, points = Point(x = 6, y = 12), Point(x = 5, y = 7), Point(x = 5, y = 10), Point(x = 13, y = 5), Point(x = 7, y = 7), Point(x = 6, y = 5), Point(x = 7, y = 10), Point(x = 6, y = 8), Point(x = 14, y = 6), Point(x = 12, y = 6), Point(x = 5, y = 6), Point(x = 5, y = 9), Point(x = 17, y = 8), Point(x = 5, y = 12), Point(x = 13, y = 7), Point(x = 16, y = 9), Point(x = 15, y = 7), Point(x = 16, y = 6), Point(x = 7, y = 9), Point(x = 6, y = 7), Point(x = 7, y = 6), Point(x = 7, y = 12), Point(x = 6, y = 10), Point(x = 12, y = 5), Point(x = 14, y = 5), Point(x = 14, y = 8), Point(x = 5, y = 5), Point(x = 17, y = 7), Point(x = 5, y = 11), Point(x = 5, y = 8), Point(x = 13, y = 6), Point(x = 15, y = 9), Point(x = 7, y = 5), Point(x = 7, y = 11), Point(x = 6, y = 9), Point(x = 7, y = 8))'"
      ]
     },
     "execution_count": 129,
     "metadata": {},
     "output_type": "execute_result"
    }
   ],
   "source": [
    "s"
   ]
  },
  {
   "cell_type": "code",
   "execution_count": 130,
   "metadata": {},
   "outputs": [],
   "source": [
    "b = Board(x_size = 20, y_size = 20, points = [Point(x = 6, y = 12), Point(x = 5, y = 7), Point(x = 5, y = 10), Point(x = 13, y = 5), Point(x = 7, y = 7), Point(x = 6, y = 5), Point(x = 7, y = 10), Point(x = 6, y = 8), Point(x = 14, y = 6), Point(x = 12, y = 6), Point(x = 5, y = 6), Point(x = 5, y = 9), Point(x = 17, y = 8), Point(x = 5, y = 12), Point(x = 13, y = 7), Point(x = 16, y = 9), Point(x = 15, y = 7), Point(x = 16, y = 6), Point(x = 7, y = 9), Point(x = 6, y = 7), Point(x = 7, y = 6), Point(x = 7, y = 12), Point(x = 6, y = 10), Point(x = 12, y = 5), Point(x = 14, y = 5), Point(x = 14, y = 8), Point(x = 5, y = 5), Point(x = 17, y = 7), Point(x = 5, y = 11), Point(x = 5, y = 8), Point(x = 13, y = 6), Point(x = 15, y = 9), Point(x = 7, y = 5), Point(x = 7, y = 11), Point(x = 6, y = 9), Point(x = 7, y = 8)])"
   ]
  },
  {
   "cell_type": "code",
   "execution_count": 131,
   "metadata": {},
   "outputs": [
    {
     "name": "stdout",
     "output_type": "stream",
     "text": [
      "CURRENT STATE: idx = 0 Board(x_size=20, y_size=20, alive_points={Point(6, 12), Point(5, 7), Point(5, 10), Point(13, 5), Point(7, 7), Point(6, 5), Point(7, 10), Point(6, 8), Point(14, 6), Point(12, 6), Point(5, 6), Point(5, 9), Point(17, 8), Point(5, 12), Point(13, 7), Point(16, 9), Point(15, 7), Point(16, 6), Point(7, 9), Point(6, 7), Point(7, 6), Point(7, 12), Point(6, 10), Point(12, 5), Point(14, 5), Point(14, 8), Point(5, 5), Point(17, 7), Point(5, 11), Point(5, 8), Point(13, 6), Point(15, 9), Point(7, 5), Point(7, 11), Point(6, 9), Point(7, 8)})\n",
      "NEXT STATE: idx =  1 Board(x_size=20, y_size=20, alive_points={Point(12, 7), Point(4, 9), Point(4, 6), Point(8, 9), Point(8, 6), Point(15, 5), Point(4, 8), Point(4, 11), Point(17, 8), Point(5, 12), Point(8, 11), Point(8, 8), Point(13, 4), Point(16, 9), Point(15, 7), Point(6, 4), Point(16, 6), Point(6, 13), Point(7, 12), Point(12, 5), Point(4, 7), Point(14, 5), Point(4, 10), Point(14, 8), Point(5, 5), Point(17, 7), Point(8, 7), Point(8, 10), Point(15, 9), Point(7, 5)})\n",
      "NEXT STATE: idx =  2 Board(x_size=20, y_size=20, alive_points={Point(6, 12), Point(14, 4), Point(4, 9), Point(3, 7), Point(4, 6), Point(3, 10), Point(5, 7), Point(5, 10), Point(8, 9), Point(9, 8), Point(8, 6), Point(13, 5), Point(15, 5), Point(7, 7), Point(6, 5), Point(7, 10), Point(14, 6), Point(3, 9), Point(5, 6), Point(4, 8), Point(5, 9), Point(4, 11), Point(17, 8), Point(5, 12), Point(8, 11), Point(9, 7), Point(9, 10), Point(8, 8), Point(13, 4), Point(16, 9), Point(15, 7), Point(6, 4), Point(16, 6), Point(7, 9), Point(6, 13), Point(7, 6), Point(7, 12), Point(4, 7), Point(14, 5), Point(4, 10), Point(14, 8), Point(5, 5), Point(17, 7), Point(3, 8), Point(5, 11), Point(5, 8), Point(8, 7), Point(9, 9), Point(8, 10), Point(13, 6), Point(15, 9), Point(7, 5), Point(7, 11), Point(7, 8)})\n",
      "END OF THE PROCESS ######### 1\n"
     ]
    },
    {
     "data": {
      "text/plain": [
       "(False, 2)"
      ]
     },
     "execution_count": 131,
     "metadata": {},
     "output_type": "execute_result"
    }
   ],
   "source": [
    "is_periodic(b)"
   ]
  },
  {
   "cell_type": "code",
   "execution_count": null,
   "metadata": {},
   "outputs": [],
   "source": []
  }
 ],
 "metadata": {
  "kernelspec": {
   "display_name": "Python 3",
   "language": "python",
   "name": "python3"
  },
  "language_info": {
   "codemirror_mode": {
    "name": "ipython",
    "version": 3
   },
   "file_extension": ".py",
   "mimetype": "text/x-python",
   "name": "python",
   "nbconvert_exporter": "python",
   "pygments_lexer": "ipython3",
   "version": "3.11.0 (v3.11.0:deaf509e8f, Oct 24 2022, 14:43:23) [Clang 13.0.0 (clang-1300.0.29.30)]"
  },
  "orig_nbformat": 4,
  "vscode": {
   "interpreter": {
    "hash": "aee8b7b246df8f9039afb4144a1f6fd8d2ca17a180786b69acc140d282b71a49"
   }
  }
 },
 "nbformat": 4,
 "nbformat_minor": 2
}
