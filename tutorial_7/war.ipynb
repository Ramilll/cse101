{
    "cells": [
        {
            "cell_type": "code",
            "execution_count": 40,
            "metadata": {},
            "outputs": [
                {
                    "name": "stdout",
                    "output_type": "stream",
                    "text": [
                        "The autoreload extension is already loaded. To reload it, use:\n",
                        "  %reload_ext autoreload\n"
                    ]
                }
            ],
            "source": [
                "%load_ext autoreload\n",
                "%autoreload 2\n",
                "\n",
                "from war import Card, Deck, Player, CardGame"
            ]
        },
        {
            "cell_type": "code",
            "execution_count": 41,
            "metadata": {},
            "outputs": [
                {
                    "name": "stdout",
                    "output_type": "stream",
                    "text": [
                        "Player Adam has no cards\n",
                        "Player Adam has: Ace of Clubs, Ace of Diamonds, Ace of Hearts, Ace of Spades\n"
                    ]
                }
            ],
            "source": [
                "p = Player('Adam')\n",
                "print(p)\n",
                "p.hand = Deck(12)\n",
                "print(p)"
            ]
        },
        {
            "cell_type": "code",
            "execution_count": 51,
            "metadata": {},
            "outputs": [
                {
                    "name": "stdout",
                    "output_type": "stream",
                    "text": [
                        "Grace: Ace of Spades\n",
                        "Emmy: King of Spades\n",
                        "Sofia: Queen of Spades\n",
                        "Grace [<war.Card object at 0x10c726ca0>, <war.Card object at 0x10c726c40>, <war.Card object at 0x10c726280>]\n"
                    ]
                }
            ],
            "source": [
                "g = CardGame(['Grace', 'Emmy', 'Sofia'], 9)\n",
                "g.deal_cards()\n",
                "(winner, trick) = g.simple_turn()\n",
                "print(winner, trick)"
            ]
        },
        {
            "cell_type": "code",
            "execution_count": null,
            "metadata": {},
            "outputs": [],
            "source": []
        }
    ],
    "metadata": {
        "kernelspec": {
            "display_name": "Python 3",
            "language": "python",
            "name": "python3"
        },
        "language_info": {
            "codemirror_mode": {
                "name": "ipython",
                "version": 3
            },
            "file_extension": ".py",
            "mimetype": "text/x-python",
            "name": "python",
            "nbconvert_exporter": "python",
            "pygments_lexer": "ipython3",
            "version": "3.9.6"
        },
        "orig_nbformat": 4,
        "vscode": {
            "interpreter": {
                "hash": "31f2aee4e71d21fbe5cf8b01ff0e069b9275f58929596ceb00d14d90e3e16cd6"
            }
        }
    },
    "nbformat": 4,
    "nbformat_minor": 2
}