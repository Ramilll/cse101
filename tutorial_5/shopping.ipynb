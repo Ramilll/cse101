{
 "cells": [
  {
   "cell_type": "code",
   "execution_count": null,
   "metadata": {},
   "outputs": [],
   "source": [
    "%load_ext autoreload\n",
    "%autoreload 2\n",
    "\n",
    "from shopping import * "
   ]
  },
  {
   "cell_type": "code",
   "execution_count": null,
   "metadata": {},
   "outputs": [],
   "source": [
    "crepes = {'wheat flour': 250, 'milk': 50, 'egg': 4, 'butter': 50, 'salt': 1}\n",
    "print_recipe(crepes)"
   ]
  },
  {
   "cell_type": "code",
   "execution_count": null,
   "metadata": {},
   "outputs": [],
   "source": [
    "read_recipe('crepes.txt')"
   ]
  },
  {
   "cell_type": "code",
   "execution_count": null,
   "metadata": {},
   "outputs": [],
   "source": [
    "flan = read_recipe('flan.txt')\n",
    "write_recipe(flan, 'flan2.txt')\n",
    "read_recipe('flan2.txt')"
   ]
  },
  {
   "cell_type": "code",
   "execution_count": null,
   "metadata": {},
   "outputs": [],
   "source": [
    "read_fridge('fridge1.txt')"
   ]
  },
  {
   "cell_type": "code",
   "execution_count": null,
   "metadata": {},
   "outputs": [],
   "source": [
    "create_shopping_list(['crepes.txt', 'flan.txt'], 'fridge1.txt')"
   ]
  },
  {
   "cell_type": "code",
   "execution_count": null,
   "metadata": {},
   "outputs": [],
   "source": [
    "todays_menu = ['crepes.txt', 'flan.txt', 'madeleines.txt']\n",
    "what_we_need = create_shopping_list(todays_menu, 'fridge1.txt')\n",
    "total_price(what_we_need, 'market1.txt')"
   ]
  },
  {
   "cell_type": "code",
   "execution_count": null,
   "metadata": {},
   "outputs": [],
   "source": [
    "todays_menu = ['crepes.txt', 'flan.txt', 'madeleines.txt']\n",
    "\n",
    "what_we_need = create_shopping_list(todays_menu, 'fridge1.txt')\n",
    "\n",
    "supermarkets = ['market1.txt', 'market2.txt', 'market3.txt']\n",
    "\n",
    "find_cheapest(what_we_need, supermarkets)\n",
    "# ('market2.txt', 144925)"
   ]
  },
  {
   "cell_type": "code",
   "execution_count": null,
   "metadata": {},
   "outputs": [],
   "source": [
    "todays_menu = ['crepes.txt', 'flan.txt', 'madeleines.txt']\n",
    "\n",
    "supermarkets = ['market1.txt', 'market2.txt', 'market3.txt']\n",
    "\n",
    "update_fridge('fridge1.txt', todays_menu, supermarkets, 'fridge_new.txt')"
   ]
  }
 ],
 "metadata": {
  "kernelspec": {
   "display_name": "Python 3",
   "language": "python",
   "name": "python3"
  },
  "language_info": {
   "codemirror_mode": {
    "name": "ipython",
    "version": 3
   },
   "file_extension": ".py",
   "mimetype": "text/x-python",
   "name": "python",
   "nbconvert_exporter": "python",
   "pygments_lexer": "ipython3",
   "version": "3.9.6"
  },
  "orig_nbformat": 4,
  "vscode": {
   "interpreter": {
    "hash": "31f2aee4e71d21fbe5cf8b01ff0e069b9275f58929596ceb00d14d90e3e16cd6"
   }
  }
 },
 "nbformat": 4,
 "nbformat_minor": 2
}
