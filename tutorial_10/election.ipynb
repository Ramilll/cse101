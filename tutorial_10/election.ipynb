{
 "cells": [
  {
   "cell_type": "code",
   "execution_count": null,
   "metadata": {},
   "outputs": [],
   "source": [
    "# autoreload python \n",
    "%load_ext autoreload\n",
    "%autoreload 2"
   ]
  },
  {
   "cell_type": "code",
   "execution_count": null,
   "metadata": {},
   "outputs": [],
   "source": [
    "from election import *"
   ]
  },
  {
   "cell_type": "code",
   "execution_count": null,
   "metadata": {},
   "outputs": [],
   "source": [
    "# Test the eliminate method\n",
    "e_1 = PreferentialElection(['BLUE', 'GREEN', 'PURPLE', 'RED', 'WHITE'])\n",
    "e_1.add_votes_from_file('votes-10.txt')\n",
    "assert e_1.status() == {'BLUE': 2, 'GREEN': 1, 'PURPLE': 0, 'RED': 4, 'WHITE': 3}\n",
    "e_1.eliminate('PURPLE')\n",
    "assert e_1.status() == {'BLUE': 2, 'GREEN': 1, 'RED': 4, 'WHITE': 3}\n",
    "e_1.eliminate('GREEN')\n",
    "assert e_1.status() == {'BLUE': 2, 'RED': 5, 'WHITE': 3}\n",
    "e_1.eliminate('BLUE')\n",
    "assert e_1.status() == {'RED': 5, 'WHITE': 4}\n",
    "assert len(e_1.dead) == 1\n",
    "e_1.eliminate('WHITE')\n",
    "assert e_1.status() == {'RED': 5}"
   ]
  },
  {
   "cell_type": "code",
   "execution_count": null,
   "metadata": {},
   "outputs": [],
   "source": [
    "# Test the round_loser method\n",
    "e_1 = PreferentialElection(['BLUE', 'GREEN', 'PURPLE', 'RED', 'WHITE'])\n",
    "e_1.add_votes_from_file('votes-10.txt')\n",
    "assert e_1.status() == {'BLUE': 2, 'GREEN': 1, 'PURPLE': 0, 'RED': 4, 'WHITE': 3}\n",
    "assert e_1.round_loser() == 'PURPLE'\n",
    "e_1.eliminate('PURPLE')\n",
    "assert e_1.status() == {'BLUE': 2, 'GREEN': 1, 'RED': 4, 'WHITE': 3}\n",
    "assert e_1.round_loser() == 'GREEN'\n",
    "e_1.eliminate('GREEN')\n",
    "assert e_1.status() == {'BLUE': 2, 'RED': 5, 'WHITE': 3}\n",
    "\n",
    "# Test the winner method\n",
    "e_2 = PreferentialElection(['BLUE', 'GREEN', 'PURPLE', 'RED', 'WHITE'])\n",
    "e_2.add_votes_from_file('votes-100.txt')\n",
    "assert e_2.status() == {'BLUE': 22, 'GREEN': 9, 'PURPLE': 15, 'RED': 26, 'WHITE': 16}\n",
    "assert e_2.winner() == 'BLUE'\n",
    "e_3 = PreferentialElection(['BLUE', 'GREEN', 'PURPLE', 'RED', 'WHITE'])\n",
    "e_3.add_votes_from_file('votes-1000.txt')\n",
    "assert e_3.status() == {'BLUE': 176, 'GREEN': 167, 'PURPLE': 151, 'RED': 150, 'WHITE': 167}\n",
    "assert e_3.winner() == 'BLUE'\n"
   ]
  },
  {
   "cell_type": "code",
   "execution_count": null,
   "metadata": {},
   "outputs": [],
   "source": [
    "# Test the winner method with the given input\n",
    "e_1 = PreferentialElection(['BLUE', 'GREEN', 'PURPLE', 'RED', 'WHITE'])\n",
    "e_1.piles = {'BLUE': [Vote(['BLUE']), Vote(['BLUE']), Vote(['BLUE']), Vote(['BLUE']), Vote(['BLUE'])],\n",
    "             'GREEN': [Vote(['GREEN']), Vote(['GREEN']), Vote(['GREEN']), Vote(['GREEN'])],\n",
    "             'PURPLE': [],\n",
    "             'RED': [Vote(['RED', 'GREEN']), Vote(['RED', 'GREEN']), Vote(['RED', 'BLUE'])],\n",
    "             'WHITE': [Vote(['WHITE']), Vote(['WHITE']), Vote(['WHITE']), Vote(['WHITE']), Vote(['WHITE'])]}\n",
    "e_1.blank = []\n",
    "\n",
    "\n",
    "assert e_1.winner() == 'BLUE'\n"
   ]
  },
  {
   "cell_type": "code",
   "execution_count": null,
   "metadata": {},
   "outputs": [],
   "source": []
  }
 ],
 "metadata": {
  "kernelspec": {
   "display_name": "Python 3",
   "language": "python",
   "name": "python3"
  },
  "language_info": {
   "codemirror_mode": {
    "name": "ipython",
    "version": 3
   },
   "file_extension": ".py",
   "mimetype": "text/x-python",
   "name": "python",
   "nbconvert_exporter": "python",
   "pygments_lexer": "ipython3",
   "version": "3.11.0 (v3.11.0:deaf509e8f, Oct 24 2022, 14:43:23) [Clang 13.0.0 (clang-1300.0.29.30)]"
  },
  "orig_nbformat": 4,
  "vscode": {
   "interpreter": {
    "hash": "aee8b7b246df8f9039afb4144a1f6fd8d2ca17a180786b69acc140d282b71a49"
   }
  }
 },
 "nbformat": 4,
 "nbformat_minor": 2
}
